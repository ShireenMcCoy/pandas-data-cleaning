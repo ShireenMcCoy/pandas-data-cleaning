{
 "cells": [
  {
   "cell_type": "code",
   "execution_count": 19,
   "id": "fb87c158",
   "metadata": {},
   "outputs": [],
   "source": [
    "import pandas as pd\n",
    "import numpy as np\n",
    "import matplotlib.pyplot as plt\n",
    "import seaborn as sns\n",
    "import glob"
   ]
  },
  {
   "cell_type": "code",
   "execution_count": 21,
   "id": "c941e5d3",
   "metadata": {},
   "outputs": [
    {
     "name": "stdout",
     "output_type": "stream",
     "text": [
      "   Unnamed: 0           State  TotalPop Hispanic   White   Black Native  \\\n",
      "0           0    Rhode Island   1053661   13.36%  74.33%   5.68%  0.35%   \n",
      "1           1  South Carolina   4777576    5.06%  62.89%  28.75%  0.29%   \n",
      "2           2    South Dakota    843190    3.24%  82.50%   1.42%  9.42%   \n",
      "3           3       Tennessee   6499615    4.72%  73.49%  18.28%  0.23%   \n",
      "4           4           Texas  26538614   38.05%  44.69%  11.65%  0.26%   \n",
      "\n",
      "   Asian Pacific       Income            GenderPop  \n",
      "0  3.25%   0.04%  $59,125.27       510388M_543273F  \n",
      "1  1.25%   0.05%  $46,296.81     2322409M_2455167F  \n",
      "2  1.02%   0.04%  $51,805.41       423477M_419713F  \n",
      "3  1.41%   0.04%  $47,328.08     3167756M_3331859F  \n",
      "4  3.67%   0.07%  $55,874.52   13171316M_13367298F  \n",
      "\n",
      "\n",
      "Index(['Unnamed: 0', 'State', 'TotalPop', 'Hispanic', 'White', 'Black',\n",
      "       'Native', 'Asian', 'Pacific', 'Income', 'GenderPop'],\n",
      "      dtype='object')\n",
      "\n",
      "\n",
      "Unnamed: 0     int64\n",
      "State         object\n",
      "TotalPop       int64\n",
      "Hispanic      object\n",
      "White         object\n",
      "Black         object\n",
      "Native        object\n",
      "Asian         object\n",
      "Pacific       object\n",
      "Income        object\n",
      "GenderPop     object\n",
      "dtype: object\n",
      "\n",
      "\n"
     ]
    }
   ],
   "source": [
    "# glob.glob() returns all filepaths that match the given pattern\n",
    "files = glob.glob(\"states*\")\n",
    "df_list = []\n",
    "for filename in files:\n",
    "  data = pd.read_csv(filename)\n",
    "  df_list.append(data)\n",
    "# concatenate the data into a single DataFrame named us_census\n",
    "us_census = pd.concat(df_list)\n",
    "\n",
    "#examine the data\n",
    "print(us_census.head())\n",
    "print(\"\\n\")\n",
    "print(us_census.columns)\n",
    "print(\"\\n\")\n",
    "print(us_census.dtypes)\n",
    "print(\"\\n\")"
   ]
  },
  {
   "cell_type": "code",
   "execution_count": 22,
   "id": "e97bad6a",
   "metadata": {},
   "outputs": [
    {
     "name": "stdout",
     "output_type": "stream",
     "text": [
      "0    59125.27 \n",
      "1    46296.81 \n",
      "2    51805.41 \n",
      "3    47328.08 \n",
      "4    55874.52 \n",
      "Name: Income, dtype: object\n"
     ]
    }
   ],
   "source": [
    "# remove dollar signs and commas from the data in the 'Income' column\n",
    "us_census.Income = us_census['Income'].replace('[\\$,]', '', regex=True)\n",
    "print(us_census.Income.head())"
   ]
  },
  {
   "cell_type": "code",
   "execution_count": 23,
   "id": "fa842bc4",
   "metadata": {},
   "outputs": [
    {
     "name": "stdout",
     "output_type": "stream",
     "text": [
      "   Unnamed: 0           State  TotalPop Hispanic   White   Black Native  \\\n",
      "0           0    Rhode Island   1053661   13.36%  74.33%   5.68%  0.35%   \n",
      "1           1  South Carolina   4777576    5.06%  62.89%  28.75%  0.29%   \n",
      "2           2    South Dakota    843190    3.24%  82.50%   1.42%  9.42%   \n",
      "3           3       Tennessee   6499615    4.72%  73.49%  18.28%  0.23%   \n",
      "4           4           Texas  26538614   38.05%  44.69%  11.65%  0.26%   \n",
      "\n",
      "   Asian Pacific     Income        Men      Women  \n",
      "0  3.25%   0.04%  59125.27     510388M    543273F  \n",
      "1  1.25%   0.05%  46296.81    2322409M   2455167F  \n",
      "2  1.02%   0.04%  51805.41     423477M    419713F  \n",
      "3  1.41%   0.04%  47328.08    3167756M   3331859F  \n",
      "4  3.67%   0.07%  55874.52   13171316M  13367298F  \n"
     ]
    }
   ],
   "source": [
    "# split the 'GenderPop' column into two columns, 'Men' and 'Women'\n",
    "splitGenderPop = us_census['GenderPop'].str.split('_', expand=True)\n",
    "us_census['Men'] = splitGenderPop[0].values\n",
    "us_census['Women'] = splitGenderPop[1].values\n",
    "\n",
    "# drop the 'GenderPop' column: \n",
    "us_census = us_census.drop(columns='GenderPop')\n",
    "print(us_census.head())\n",
    "\n"
   ]
  },
  {
   "cell_type": "code",
   "execution_count": 24,
   "id": "717c7f3e",
   "metadata": {},
   "outputs": [
    {
     "data": {
      "text/html": [
       "<div>\n",
       "<style scoped>\n",
       "    .dataframe tbody tr th:only-of-type {\n",
       "        vertical-align: middle;\n",
       "    }\n",
       "\n",
       "    .dataframe tbody tr th {\n",
       "        vertical-align: top;\n",
       "    }\n",
       "\n",
       "    .dataframe thead th {\n",
       "        text-align: right;\n",
       "    }\n",
       "</style>\n",
       "<table border=\"1\" class=\"dataframe\">\n",
       "  <thead>\n",
       "    <tr style=\"text-align: right;\">\n",
       "      <th></th>\n",
       "      <th>Unnamed: 0</th>\n",
       "      <th>State</th>\n",
       "      <th>TotalPop</th>\n",
       "      <th>Hispanic</th>\n",
       "      <th>White</th>\n",
       "      <th>Black</th>\n",
       "      <th>Native</th>\n",
       "      <th>Asian</th>\n",
       "      <th>Pacific</th>\n",
       "      <th>Income</th>\n",
       "      <th>Men</th>\n",
       "      <th>Women</th>\n",
       "    </tr>\n",
       "  </thead>\n",
       "  <tbody>\n",
       "    <tr>\n",
       "      <th>0</th>\n",
       "      <td>0</td>\n",
       "      <td>Rhode Island</td>\n",
       "      <td>1053661</td>\n",
       "      <td>13.36%</td>\n",
       "      <td>74.33%</td>\n",
       "      <td>5.68%</td>\n",
       "      <td>0.35%</td>\n",
       "      <td>3.25%</td>\n",
       "      <td>0.04%</td>\n",
       "      <td>59125.27</td>\n",
       "      <td>510388</td>\n",
       "      <td>543273</td>\n",
       "    </tr>\n",
       "    <tr>\n",
       "      <th>1</th>\n",
       "      <td>1</td>\n",
       "      <td>South Carolina</td>\n",
       "      <td>4777576</td>\n",
       "      <td>5.06%</td>\n",
       "      <td>62.89%</td>\n",
       "      <td>28.75%</td>\n",
       "      <td>0.29%</td>\n",
       "      <td>1.25%</td>\n",
       "      <td>0.05%</td>\n",
       "      <td>46296.81</td>\n",
       "      <td>2322409</td>\n",
       "      <td>2455167</td>\n",
       "    </tr>\n",
       "    <tr>\n",
       "      <th>2</th>\n",
       "      <td>2</td>\n",
       "      <td>South Dakota</td>\n",
       "      <td>843190</td>\n",
       "      <td>3.24%</td>\n",
       "      <td>82.50%</td>\n",
       "      <td>1.42%</td>\n",
       "      <td>9.42%</td>\n",
       "      <td>1.02%</td>\n",
       "      <td>0.04%</td>\n",
       "      <td>51805.41</td>\n",
       "      <td>423477</td>\n",
       "      <td>419713</td>\n",
       "    </tr>\n",
       "    <tr>\n",
       "      <th>3</th>\n",
       "      <td>3</td>\n",
       "      <td>Tennessee</td>\n",
       "      <td>6499615</td>\n",
       "      <td>4.72%</td>\n",
       "      <td>73.49%</td>\n",
       "      <td>18.28%</td>\n",
       "      <td>0.23%</td>\n",
       "      <td>1.41%</td>\n",
       "      <td>0.04%</td>\n",
       "      <td>47328.08</td>\n",
       "      <td>3167756</td>\n",
       "      <td>3331859</td>\n",
       "    </tr>\n",
       "    <tr>\n",
       "      <th>4</th>\n",
       "      <td>4</td>\n",
       "      <td>Texas</td>\n",
       "      <td>26538614</td>\n",
       "      <td>38.05%</td>\n",
       "      <td>44.69%</td>\n",
       "      <td>11.65%</td>\n",
       "      <td>0.26%</td>\n",
       "      <td>3.67%</td>\n",
       "      <td>0.07%</td>\n",
       "      <td>55874.52</td>\n",
       "      <td>13171316</td>\n",
       "      <td>13367298</td>\n",
       "    </tr>\n",
       "  </tbody>\n",
       "</table>\n",
       "</div>"
      ],
      "text/plain": [
       "   Unnamed: 0           State  TotalPop Hispanic   White   Black Native  \\\n",
       "0           0    Rhode Island   1053661   13.36%  74.33%   5.68%  0.35%   \n",
       "1           1  South Carolina   4777576    5.06%  62.89%  28.75%  0.29%   \n",
       "2           2    South Dakota    843190    3.24%  82.50%   1.42%  9.42%   \n",
       "3           3       Tennessee   6499615    4.72%  73.49%  18.28%  0.23%   \n",
       "4           4           Texas  26538614   38.05%  44.69%  11.65%  0.26%   \n",
       "\n",
       "   Asian Pacific     Income       Men     Women  \n",
       "0  3.25%   0.04%  59125.27     510388    543273  \n",
       "1  1.25%   0.05%  46296.81    2322409   2455167  \n",
       "2  1.02%   0.04%  51805.41     423477    419713  \n",
       "3  1.41%   0.04%  47328.08    3167756   3331859  \n",
       "4  3.67%   0.07%  55874.52   13171316  13367298  "
      ]
     },
     "execution_count": 24,
     "metadata": {},
     "output_type": "execute_result"
    }
   ],
   "source": [
    "# remove the 'M' and 'W' characters from the 'Men' and 'Women' columns:\n",
    "us_census.Men = us_census[\"Men\"].replace('\\D', '', regex=True)\n",
    "us_census.Women = us_census[\"Women\"].replace('\\D', '', regex=True)\n",
    "\n",
    "us_census.head()"
   ]
  },
  {
   "cell_type": "code",
   "execution_count": 25,
   "id": "030f2cee",
   "metadata": {},
   "outputs": [
    {
     "data": {
      "text/plain": [
       "Unnamed: 0      int64\n",
       "State          object\n",
       "TotalPop        int64\n",
       "Hispanic       object\n",
       "White          object\n",
       "Black          object\n",
       "Native         object\n",
       "Asian          object\n",
       "Pacific        object\n",
       "Income         object\n",
       "Men             int64\n",
       "Women         float64\n",
       "dtype: object"
      ]
     },
     "execution_count": 25,
     "metadata": {},
     "output_type": "execute_result"
    }
   ],
   "source": [
    "# make the data in the 'Men' and 'Women' columns numeric:\n",
    "us_census.Men = pd.to_numeric(us_census.Men)\n",
    "us_census.Women = pd.to_numeric(us_census.Women)\n",
    "us_census.dtypes"
   ]
  },
  {
   "cell_type": "code",
   "execution_count": 26,
   "id": "c6a50cb2",
   "metadata": {},
   "outputs": [
    {
     "data": {
      "image/png": "[encoded data removed]",
      "text/plain": [
       "<Figure size 432x288 with 1 Axes>"
      ]
     },
     "metadata": {
      "needs_background": "light"
     },
     "output_type": "display_data"
    },
    {
     "data": {
      "text/plain": [
       "<Figure size 432x288 with 0 Axes>"
      ]
     },
     "metadata": {},
     "output_type": "display_data"
    }
   ],
   "source": [
    "# use matplotlib.pyplot to make a scatter plot of income versus population of women per state\n",
    "plt.scatter(us_census['Women'], us_census['Income'])\n",
    "plt.title(\"Scatter Plot of Income vs. Number of Women per State\")\n",
    "plt.xlabel(\"Population of Women per State\")\n",
    "plt.ylabel(\"Income (in US Dollars)\")\n",
    "plt.show()\n",
    "plt.clf()"
   ]
  },
  {
   "cell_type": "code",
   "execution_count": 27,
   "id": "b45942ca",
   "metadata": {},
   "outputs": [
    {
     "name": "stdout",
     "output_type": "stream",
     "text": [
      "0      543273.0\n",
      "1     2455167.0\n",
      "2      419713.0\n",
      "3     3331859.0\n",
      "4    13367298.0\n",
      "5     1444150.0\n",
      "0     1444150.0\n",
      "1      318031.0\n",
      "2     4195682.0\n",
      "3     3497739.0\n",
      "4      937789.0\n",
      "5     2890732.0\n",
      "0           NaN\n",
      "1     3455936.0\n",
      "2     5038598.0\n",
      "3     2727005.0\n",
      "4     1536358.0\n",
      "5     3081445.0\n",
      "0     3081445.0\n",
      "1           NaN\n",
      "2      939759.0\n",
      "3     1390901.0\n",
      "4      670717.0\n",
      "5     4561386.0\n",
      "0     5913084.0\n",
      "1     1942789.0\n",
      "2     1990780.0\n",
      "3     6534215.0\n",
      "4     1869213.0\n",
      "5      543273.0\n",
      "0     4561386.0\n",
      "1     1051703.0\n",
      "2    10131373.0\n",
      "3     5049925.0\n",
      "4      353677.0\n",
      "5     5913084.0\n",
      "0     5123362.0\n",
      "1      696428.0\n",
      "2      806083.0\n",
      "3     6556862.0\n",
      "4     3333382.0\n",
      "5     1558931.0\n",
      "0     1558931.0\n",
      "1     1453125.0\n",
      "2     2233145.0\n",
      "3     2364097.0\n",
      "4      679019.0\n",
      "5           NaN\n",
      "0     2630239.0\n",
      "1     1841615.0\n",
      "2      478041.0\n",
      "3      340810.0\n",
      "4    10045763.0\n",
      "5     5123362.0\n",
      "0     2489527.0\n",
      "1      349215.0\n",
      "2     3342840.0\n",
      "3     1506295.0\n",
      "4    19334329.0\n",
      "5     2630239.0\n",
      "Name: Women, dtype: float64\n"
     ]
    }
   ],
   "source": [
    "# examine the data in the Women column:\n",
    "print(us_census.Women)\n",
    "# it has some NaN's that need to be turned into numbers."
   ]
  },
  {
   "cell_type": "code",
   "execution_count": 28,
   "id": "d960f9ce",
   "metadata": {},
   "outputs": [
    {
     "name": "stdout",
     "output_type": "stream",
     "text": [
      "0      543273.0\n",
      "1     2455167.0\n",
      "2      419713.0\n",
      "3     3331859.0\n",
      "4    13367298.0\n",
      "5     1444150.0\n",
      "0     1444150.0\n",
      "1      318031.0\n",
      "2     4195682.0\n",
      "3     3497739.0\n",
      "4      937789.0\n",
      "5     2890732.0\n",
      "0     3057895.0\n",
      "1     3455936.0\n",
      "2     5038598.0\n",
      "3     2727005.0\n",
      "4     1536358.0\n",
      "5     3081445.0\n",
      "0     3081445.0\n",
      "1      504536.0\n",
      "2      939759.0\n",
      "3     1390901.0\n",
      "4      670717.0\n",
      "5     4561386.0\n",
      "0     5913084.0\n",
      "1     1942789.0\n",
      "2     1990780.0\n",
      "3     6534215.0\n",
      "4     1869213.0\n",
      "5      543273.0\n",
      "0     4561386.0\n",
      "1     1051703.0\n",
      "2    10131373.0\n",
      "3     5049925.0\n",
      "4      353677.0\n",
      "5     5913084.0\n",
      "0     5123362.0\n",
      "1      696428.0\n",
      "2      806083.0\n",
      "3     6556862.0\n",
      "4     3333382.0\n",
      "5     1558931.0\n",
      "0     1558931.0\n",
      "1     1453125.0\n",
      "2     2233145.0\n",
      "3     2364097.0\n",
      "4      679019.0\n",
      "5     3057895.0\n",
      "0     2630239.0\n",
      "1     1841615.0\n",
      "2      478041.0\n",
      "3      340810.0\n",
      "4    10045763.0\n",
      "5     5123362.0\n",
      "0     2489527.0\n",
      "1      349215.0\n",
      "2     3342840.0\n",
      "3     1506295.0\n",
      "4    19334329.0\n",
      "5     2630239.0\n",
      "Name: Women, dtype: float64\n"
     ]
    }
   ],
   "source": [
    "# change the NaN values to be the total population for the state minus the pop of men for that state:\n",
    "us_census = us_census.fillna(value={\"Women\":us_census.TotalPop - us_census.Men})\n",
    "print(us_census.Women)"
   ]
  },
  {
   "cell_type": "code",
   "execution_count": 29,
   "id": "0bcf9a63",
   "metadata": {},
   "outputs": [],
   "source": [
    "# check data for duplicate rows\n",
    "#ignore the 1st column because it's irrelevant and could make rows look different when they're actually duplicates.\n",
    "us_census.duplicated(subset = us_census.columns[1:])\n",
    "\n",
    "# drop the duplicate rows, again ignoring the first column:\n",
    "us_census = us_census.drop_duplicates(subset = us_census.columns[1:])"
   ]
  },
  {
   "cell_type": "code",
   "execution_count": 30,
   "id": "d9bf659c",
   "metadata": {},
   "outputs": [
    {
     "data": {
      "image/png": "[encoded data removed]",
      "text/plain": [
       "<Figure size 432x288 with 1 Axes>"
      ]
     },
     "metadata": {
      "needs_background": "light"
     },
     "output_type": "display_data"
    },
    {
     "data": {
      "text/plain": [
       "<Figure size 432x288 with 0 Axes>"
      ]
     },
     "metadata": {},
     "output_type": "display_data"
    }
   ],
   "source": [
    "# remake the previous scatterplot now that the duplicates have been removed:\n",
    "plt.scatter(us_census['Women'], us_census['Income'])\n",
    "plt.title(\"Scatter Plot of Income vs. Number of Women per State\")\n",
    "plt.xlabel(\"Population of Women per State\")\n",
    "plt.ylabel(\"Income (in US Dollars)\")\n",
    "plt.show()\n",
    "plt.clf()"
   ]
  },
  {
   "cell_type": "code",
   "execution_count": 31,
   "id": "31637f6b",
   "metadata": {},
   "outputs": [
    {
     "data": {
      "text/plain": [
       "Index(['Unnamed: 0', 'State', 'TotalPop', 'Hispanic', 'White', 'Black',\n",
       "       'Native', 'Asian', 'Pacific', 'Income', 'Men', 'Women'],\n",
       "      dtype='object')"
      ]
     },
     "execution_count": 31,
     "metadata": {},
     "output_type": "execute_result"
    }
   ],
   "source": [
    "us_census.columns"
   ]
  },
  {
   "cell_type": "code",
   "execution_count": 45,
   "id": "9333bc8e",
   "metadata": {},
   "outputs": [
    {
     "data": {
      "text/plain": [
       "Unnamed: 0      int64\n",
       "State          object\n",
       "TotalPop        int64\n",
       "Hispanic      float64\n",
       "White         float64\n",
       "Black         float64\n",
       "Native        float64\n",
       "Asian         float64\n",
       "Pacific       float64\n",
       "Income        float64\n",
       "Men             int64\n",
       "Women         float64\n",
       "dtype: object"
      ]
     },
     "execution_count": 45,
     "metadata": {},
     "output_type": "execute_result"
    }
   ],
   "source": [
    "# remove percent signs and change data type to numeric for columns\n",
    "cols_to_change = ['Hispanic', 'White', 'Black', 'Native', 'Asian', 'Pacific']\n",
    "for col in cols_to_change:\n",
    "    us_census[col] = us_census[col].replace('%', '', regex=True)\n",
    "    us_census[col] = pd.to_numeric(us_census[col])\n",
    "\n",
    "#change data type for 'Income' column to numeric\n",
    "us_census['Income'] = pd.to_numeric(us_census['Income'])   \n",
    "us_census.dtypes    "
   ]
  },
  {
   "cell_type": "code",
   "execution_count": 46,
   "id": "9085de32",
   "metadata": {},
   "outputs": [
    {
     "data": {
      "text/html": [
       "<div>\n",
       "<style scoped>\n",
       "    .dataframe tbody tr th:only-of-type {\n",
       "        vertical-align: middle;\n",
       "    }\n",
       "\n",
       "    .dataframe tbody tr th {\n",
       "        vertical-align: top;\n",
       "    }\n",
       "\n",
       "    .dataframe thead th {\n",
       "        text-align: right;\n",
       "    }\n",
       "</style>\n",
       "<table border=\"1\" class=\"dataframe\">\n",
       "  <thead>\n",
       "    <tr style=\"text-align: right;\">\n",
       "      <th></th>\n",
       "      <th>Unnamed: 0</th>\n",
       "      <th>State</th>\n",
       "      <th>TotalPop</th>\n",
       "      <th>Hispanic</th>\n",
       "      <th>White</th>\n",
       "      <th>Black</th>\n",
       "      <th>Native</th>\n",
       "      <th>Asian</th>\n",
       "      <th>Pacific</th>\n",
       "      <th>Income</th>\n",
       "      <th>Men</th>\n",
       "      <th>Women</th>\n",
       "    </tr>\n",
       "  </thead>\n",
       "  <tbody>\n",
       "    <tr>\n",
       "      <th>0</th>\n",
       "      <td>0</td>\n",
       "      <td>Rhode Island</td>\n",
       "      <td>1053661</td>\n",
       "      <td>13.36</td>\n",
       "      <td>74.33</td>\n",
       "      <td>5.68</td>\n",
       "      <td>0.35</td>\n",
       "      <td>3.25</td>\n",
       "      <td>0.04</td>\n",
       "      <td>59125.27</td>\n",
       "      <td>510388</td>\n",
       "      <td>543273.0</td>\n",
       "    </tr>\n",
       "    <tr>\n",
       "      <th>1</th>\n",
       "      <td>1</td>\n",
       "      <td>South Carolina</td>\n",
       "      <td>4777576</td>\n",
       "      <td>5.06</td>\n",
       "      <td>62.89</td>\n",
       "      <td>28.75</td>\n",
       "      <td>0.29</td>\n",
       "      <td>1.25</td>\n",
       "      <td>0.05</td>\n",
       "      <td>46296.81</td>\n",
       "      <td>2322409</td>\n",
       "      <td>2455167.0</td>\n",
       "    </tr>\n",
       "    <tr>\n",
       "      <th>2</th>\n",
       "      <td>2</td>\n",
       "      <td>South Dakota</td>\n",
       "      <td>843190</td>\n",
       "      <td>3.24</td>\n",
       "      <td>82.50</td>\n",
       "      <td>1.42</td>\n",
       "      <td>9.42</td>\n",
       "      <td>1.02</td>\n",
       "      <td>0.04</td>\n",
       "      <td>51805.41</td>\n",
       "      <td>423477</td>\n",
       "      <td>419713.0</td>\n",
       "    </tr>\n",
       "    <tr>\n",
       "      <th>3</th>\n",
       "      <td>3</td>\n",
       "      <td>Tennessee</td>\n",
       "      <td>6499615</td>\n",
       "      <td>4.72</td>\n",
       "      <td>73.49</td>\n",
       "      <td>18.28</td>\n",
       "      <td>0.23</td>\n",
       "      <td>1.41</td>\n",
       "      <td>0.04</td>\n",
       "      <td>47328.08</td>\n",
       "      <td>3167756</td>\n",
       "      <td>3331859.0</td>\n",
       "    </tr>\n",
       "    <tr>\n",
       "      <th>4</th>\n",
       "      <td>4</td>\n",
       "      <td>Texas</td>\n",
       "      <td>26538614</td>\n",
       "      <td>38.05</td>\n",
       "      <td>44.69</td>\n",
       "      <td>11.65</td>\n",
       "      <td>0.26</td>\n",
       "      <td>3.67</td>\n",
       "      <td>0.07</td>\n",
       "      <td>55874.52</td>\n",
       "      <td>13171316</td>\n",
       "      <td>13367298.0</td>\n",
       "    </tr>\n",
       "  </tbody>\n",
       "</table>\n",
       "</div>"
      ],
      "text/plain": [
       "   Unnamed: 0           State  TotalPop  Hispanic  White  Black  Native  \\\n",
       "0           0    Rhode Island   1053661     13.36  74.33   5.68    0.35   \n",
       "1           1  South Carolina   4777576      5.06  62.89  28.75    0.29   \n",
       "2           2    South Dakota    843190      3.24  82.50   1.42    9.42   \n",
       "3           3       Tennessee   6499615      4.72  73.49  18.28    0.23   \n",
       "4           4           Texas  26538614     38.05  44.69  11.65    0.26   \n",
       "\n",
       "   Asian  Pacific    Income       Men       Women  \n",
       "0   3.25     0.04  59125.27    510388    543273.0  \n",
       "1   1.25     0.05  46296.81   2322409   2455167.0  \n",
       "2   1.02     0.04  51805.41    423477    419713.0  \n",
       "3   1.41     0.04  47328.08   3167756   3331859.0  \n",
       "4   3.67     0.07  55874.52  13171316  13367298.0  "
      ]
     },
     "execution_count": 46,
     "metadata": {},
     "output_type": "execute_result"
    }
   ],
   "source": [
    "us_census.head()"
   ]
  },
  {
   "cell_type": "code",
   "execution_count": 47,
   "id": "b9be4bc4",
   "metadata": {},
   "outputs": [
    {
     "data": {
      "text/plain": [
       "True"
      ]
     },
     "execution_count": 47,
     "metadata": {},
     "output_type": "execute_result"
    }
   ],
   "source": [
    "# check if there are any NaN values in us_census DataFrame:\n",
    "us_census.isnull().values.any()"
   ]
  },
  {
   "cell_type": "code",
   "execution_count": 52,
   "id": "d018a59d",
   "metadata": {},
   "outputs": [
    {
     "data": {
      "text/plain": [
       "Unnamed: 0    0\n",
       "State         0\n",
       "TotalPop      0\n",
       "Hispanic      0\n",
       "White         0\n",
       "Black         0\n",
       "Native        0\n",
       "Asian         0\n",
       "Pacific       4\n",
       "Income        0\n",
       "Men           0\n",
       "Women         0\n",
       "dtype: int64"
      ]
     },
     "execution_count": 52,
     "metadata": {},
     "output_type": "execute_result"
    }
   ],
   "source": [
    "# see which columns have null values\n",
    "us_census.isnull().sum()"
   ]
  },
  {
   "cell_type": "code",
   "execution_count": 59,
   "id": "37ae7704",
   "metadata": {},
   "outputs": [
    {
     "data": {
      "text/plain": [
       "False"
      ]
     },
     "execution_count": 59,
     "metadata": {},
     "output_type": "execute_result"
    }
   ],
   "source": [
    "# Fill the missing values in the \"Pacific\" column with 100 minus all the other categories\n",
    "us_census['Pacific'] = us_census['Pacific'].fillna(100 - us_census['Hispanic'] - us_census['White'] - us_census['Black'] - us_census['Native'] - us_census['Asian'])\n",
    "\n",
    "# check if that got rid of all the null values in us_census\n",
    "us_census.isnull().values.any()\n"
   ]
  },
  {
   "cell_type": "code",
   "execution_count": 63,
   "id": "3d0ed173",
   "metadata": {},
   "outputs": [
    {
     "data": {
      "image/png": "[encoded data removed]",
      "text/plain": [
       "<Figure size 432x288 with 1 Axes>"
      ]
     },
     "metadata": {
      "needs_background": "light"
     },
     "output_type": "display_data"
    },
    {
     "data": {
      "image/png": "[encoded data removed]",
      "text/plain": [
       "<Figure size 432x288 with 1 Axes>"
      ]
     },
     "metadata": {
      "needs_background": "light"
     },
     "output_type": "display_data"
    },
    {
     "data": {
      "image/png": "[encoded data removed]",
      "text/plain": [
       "<Figure size 432x288 with 1 Axes>"
      ]
     },
     "metadata": {
      "needs_background": "light"
     },
     "output_type": "display_data"
    },
    {
     "data": {
      "image/png": "[encoded data removed]",
      "text/plain": [
       "<Figure size 432x288 with 1 Axes>"
      ]
     },
     "metadata": {
      "needs_background": "light"
     },
     "output_type": "display_data"
    },
    {
     "data": {
      "image/png": "[encoded data removed]",
      "text/plain": [
       "<Figure size 432x288 with 1 Axes>"
      ]
     },
     "metadata": {
      "needs_background": "light"
     },
     "output_type": "display_data"
    },
    {
     "data": {
      "image/png": "[encoded data removed]",
      "text/plain": [
       "<Figure size 432x288 with 1 Axes>"
      ]
     },
     "metadata": {
      "needs_background": "light"
     },
     "output_type": "display_data"
    },
    {
     "data": {
      "text/plain": [
       "<Figure size 432x288 with 0 Axes>"
      ]
     },
     "metadata": {},
     "output_type": "display_data"
    }
   ],
   "source": [
    "for category in ['Hispanic', 'White', 'Black', 'Native', 'Asian', 'Pacific']:\n",
    "    plt.hist(us_census[category])\n",
    "    plt.title(\"Histogram of the Percentage of {} People per State\".format(category))\n",
    "    plt.xlabel(\"Percentage\")\n",
    "    plt.ylabel(\"Frequency\")\n",
    "    plt.show()\n",
    "    plt.clf()"
   ]
  }
 ],
 "metadata": {
  "kernelspec": {
   "display_name": "Python 3 (ipykernel)",
   "language": "python",
   "name": "python3"
  },
  "language_info": {
   "codemirror_mode": {
    "name": "ipython",
    "version": 3
   },
   "file_extension": ".py",
   "mimetype": "text/x-python",
   "name": "python",
   "nbconvert_exporter": "python",
   "pygments_lexer": "ipython3",
   "version": "3.9.7"
  }
 },
 "nbformat": 4,
 "nbformat_minor": 5
}
